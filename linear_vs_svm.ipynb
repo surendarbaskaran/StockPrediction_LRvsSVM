{
 "cells": [
  {
   "cell_type": "code",
   "execution_count": null,
   "id": "d4feb6dc-6d5e-4727-abe1-d3e0fa51168f",
   "metadata": {},
   "outputs": [],
   "source": [
    "###Linear Regression and Support Vector machine stock predictions\n",
    "import pandas as pd\n",
    "import numpy as np\n",
    "from sklearn.linear_model import LinearRegression\n",
    "from sklearn.svm import SVR\n",
    "from sklearn.model_selection import train_test_split\n",
    "\n",
    "df = pd.read_csv('nse_all_stock_data.csv' , usecols=['TCS'])\n",
    "\n",
    "df.tail()\n",
    "\n",
    "df.dropna(inplace=True)\n",
    "df['TCS_shifted'] = df['TCS'].shift(-1)\n",
    "df.tail()\n",
    "\n",
    "df = df.round({'TCS': 1, 'TCS_shifted': 1})\n",
    "\n",
    "df.tail()\n",
    "\n",
    "X=np.array(df['TCS'])\n",
    "X=X[:-1]\n",
    "\n",
    "y=np.array(df['TCS_shifted'])\n",
    "df['TCS_shifted'].dropna(inplace=True)\n",
    "y=y[:-1]\n",
    "\n",
    "\n",
    "\n",
    "x_train,x_test,y_train,y_test=train_test_split(X,y,test_size=0.2)\n",
    "\n",
    "svr_rbf=SVR(kernel='rbf', C=1e3, gamma=0.1)\n",
    "\n",
    "svr_rbf.fit(x_train.reshape(-1, 1),y_train)\n",
    "\n",
    "svm_confidence=svr_rbf.score(x_test.reshape(-1, 1),y_test)\n",
    "print(svm_confidence)\n",
    "\n",
    "svm_confidence=svr_rbf.score(x_test.reshape(-1, 1),y_test)\n",
    "print(\"svm_confidence\",svm_confidence)\n",
    "\n",
    "lr=LinearRegression()\n",
    "\n",
    "lr.fit(x_train.reshape(-1, 1),y_train)\n",
    "\n",
    "lr_conf=lr.score(x_test.reshape(-1, 1),y_test)\n",
    "print(lr_conf)\n",
    "\n",
    "lr_conf=lr.score(x_test.reshape(-1, 1),y_test)\n",
    "print(\"svm_confidence\",lr_conf)\n",
    "\n",
    "x_forecast=np.array(df['TCS'])[-2:-1]\n",
    "# print(x_forecast.reshape(-1, 1))\n",
    "lr_y_prediction=lr.predict(x_forecast.reshape(-1, 1))\n",
    "svr_y_prediction=svr_rbf.predict(x_forecast.reshape(-1, 1))\n",
    "y_hat=y[-2:-1]\n",
    "print('x       y_hat          y_lr(diff)          y_svr(diff)')\n",
    "for i in range(1):\n",
    "    print(x_forecast[i].round(1),\"      \",y_hat[i],\"    \",lr_y_prediction[i].round(1),\"(\",(lr_y_prediction[i]-y_hat[i]).round(1),\")    \",svr_y_prediction[i].round(1),\"(\",(y_hat[i]-svr_y_prediction[i]).round(1),\")\")\n",
    "\n",
    "new_row = np.array([lr_y_prediction[-1]])\n",
    "new_row\n",
    "#x_forecast = np.append(x_forecast, [new_row], axis=0)\n",
    "#x_forecast.tail()\n",
    "\n"
   ]
  },
  {
   "cell_type": "code",
   "execution_count": 92,
   "id": "3ba690fc-f3f2-4a57-9d39-e198a3bd70e6",
   "metadata": {},
   "outputs": [
    {
     "ename": "ModuleNotFoundError",
     "evalue": "No module named 'keras'",
     "output_type": "error",
     "traceback": [
      "\u001b[1;31m---------------------------------------------------------------------------\u001b[0m",
      "\u001b[1;31mModuleNotFoundError\u001b[0m                       Traceback (most recent call last)",
      "Cell \u001b[1;32mIn[92], line 6\u001b[0m\n\u001b[0;32m      4\u001b[0m \u001b[38;5;28;01mimport\u001b[39;00m \u001b[38;5;21;01mmath\u001b[39;00m\n\u001b[0;32m      5\u001b[0m \u001b[38;5;28;01mfrom\u001b[39;00m \u001b[38;5;21;01msklearn\u001b[39;00m\u001b[38;5;21;01m.\u001b[39;00m\u001b[38;5;21;01mpreprocessing\u001b[39;00m \u001b[38;5;28;01mimport\u001b[39;00m MinMaxScaler\n\u001b[1;32m----> 6\u001b[0m \u001b[38;5;28;01mfrom\u001b[39;00m \u001b[38;5;21;01mkeras\u001b[39;00m\u001b[38;5;21;01m.\u001b[39;00m\u001b[38;5;21;01mmodels\u001b[39;00m \u001b[38;5;28;01mimport\u001b[39;00m Sequential\n\u001b[0;32m      7\u001b[0m \u001b[38;5;28;01mfrom\u001b[39;00m \u001b[38;5;21;01mkeras\u001b[39;00m\u001b[38;5;21;01m.\u001b[39;00m\u001b[38;5;21;01mlayers\u001b[39;00m \u001b[38;5;28;01mimport\u001b[39;00m Dense,LSTM\n\u001b[0;32m      8\u001b[0m \u001b[38;5;28;01mimport\u001b[39;00m \u001b[38;5;21;01mmatplotlib\u001b[39;00m\u001b[38;5;21;01m.\u001b[39;00m\u001b[38;5;21;01mpyplot\u001b[39;00m \u001b[38;5;28;01mas\u001b[39;00m \u001b[38;5;21;01mplt\u001b[39;00m\n",
      "\u001b[1;31mModuleNotFoundError\u001b[0m: No module named 'keras'"
     ]
    }
   ],
   "source": [
    "###Linear Regression and Support Vector machine stock predictions\n",
    "import pandas as pd\n",
    "import numpy as np\n",
    "import math\n",
    "from sklearn.preprocessing import MinMaxScaler\n",
    "from keras.models import Sequential\n",
    "from keras.layers import Dense,LSTM\n",
    "import matplotlib.pyplot as plt\n",
    "plt.style.use('fivethirtyeight')"
   ]
  },
  {
   "cell_type": "code",
   "execution_count": null,
   "id": "fc6b8189-36a2-41c2-bef4-fc685d88d1f4",
   "metadata": {},
   "outputs": [],
   "source": []
  }
 ],
 "metadata": {
  "kernelspec": {
   "display_name": "Python 3 (ipykernel)",
   "language": "python",
   "name": "python3"
  },
  "language_info": {
   "codemirror_mode": {
    "name": "ipython",
    "version": 3
   },
   "file_extension": ".py",
   "mimetype": "text/x-python",
   "name": "python",
   "nbconvert_exporter": "python",
   "pygments_lexer": "ipython3",
   "version": "3.12.4"
  }
 },
 "nbformat": 4,
 "nbformat_minor": 5
}
